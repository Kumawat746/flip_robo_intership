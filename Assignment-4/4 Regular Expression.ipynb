{
 "cells": [
  {
   "cell_type": "code",
   "execution_count": 1,
   "id": "3a205664-a428-4dc3-853e-809af855c4db",
   "metadata": {},
   "outputs": [],
   "source": [
    "import re\n",
    "import pandas as pd"
   ]
  },
  {
   "cell_type": "markdown",
   "id": "800fb077-9b77-4d12-bf5d-fd5f117e3532",
   "metadata": {},
   "source": [
    "# Question 1- Write a Python program to replace all occurrences of a space, comma, or dot with a colon.\n",
    "    Sample Text- 'Python Exercises, PHP exercises.'\n",
    "     Expected Output: Python:Exercises::PHP:exercises:\n"
   ]
  },
  {
   "cell_type": "code",
   "execution_count": 2,
   "id": "bca31169-61fc-4bd9-a18f-cd09aecabbf0",
   "metadata": {},
   "outputs": [
    {
     "name": "stdout",
     "output_type": "stream",
     "text": [
      "Python:Exercises::PHP:exercises:\n"
     ]
    }
   ],
   "source": [
    "y = r'[, .]'\n",
    "text = 'Python Exercises, PHP exercises.'\n",
    "\n",
    "replace = re.sub(y, \":\",text)\n",
    "print(replace)"
   ]
  },
  {
   "cell_type": "markdown",
   "id": "067b4d7e-841b-4e50-9f33-423340c54485",
   "metadata": {},
   "source": [
    "# Question 2-  Create a dataframe using the dictionary below and remove everything (commas (,), !, XXXX, ;, etc.) from the columns except words.\n",
    "           Dictionary- {'SUMMARY' : ['hello, world!', 'XXXXX test', '123four, five:; six...']}\n",
    "            Expected output-\n",
    "           0      hello world\n",
    "           1             test\n",
    "           2    four five six\n"
   ]
  },
  {
   "cell_type": "code",
   "execution_count": 135,
   "id": "ca02f8b7-3266-41fc-a81a-1e6327ae9db6",
   "metadata": {},
   "outputs": [
    {
     "name": "stdout",
     "output_type": "stream",
     "text": [
      "            SUMMARY\n",
      "0       hello world\n",
      "1        XXXXX test\n",
      "2  123four five six\n"
     ]
    }
   ],
   "source": [
    "Dictionary = {'SUMMARY' : ['hello, world!', 'XXXXX test', '123four, five:; six...']}\n",
    "\n",
    "import pandas as pd\n",
    "\n",
    "df = pd.DataFrame(Dictionary)\n",
    "\n",
    "\n",
    "# remove the occurrences\n",
    "df['SUMMARY'] = df['SUMMARY'].str.replace(r'[^\\w\\s]', '', regex=True)\n",
    "\n",
    "\n",
    "print(df)"
   ]
  },
  {
   "cell_type": "markdown",
   "id": "320f3225-37aa-44f5-a102-9f375c0216a9",
   "metadata": {},
   "source": [
    "# Question 3- Create a function in python to find all words that are at least 4 characters long in a string. The use of the re.compile() method is mandatory."
   ]
  },
  {
   "cell_type": "code",
   "execution_count": 8,
   "id": "a28b554f-c242-4bd2-9bfc-4bbdae69f4fc",
   "metadata": {},
   "outputs": [
    {
     "name": "stdout",
     "output_type": "stream",
     "text": [
      "['This', 'test', 'with', 'some', 'words', 'that', 'four', 'long', 'others', 'that']\n"
     ]
    }
   ],
   "source": [
    "str = \"This is a test with some words that are four long and others that are not.\"\n",
    "\n",
    "pattern = re.compile(r'\\b\\w{4,}\\b')\n",
    "\n",
    "def fucation(str):\n",
    "    output = pattern.findall(str)\n",
    "    return output\n",
    "\n",
    "print(fucation(str))"
   ]
  },
  {
   "cell_type": "markdown",
   "id": "3a697a4b-13dc-456a-b09d-3d6f3edd1e52",
   "metadata": {},
   "source": [
    "# Question 4- Create a function in python to find all three, four, and five character words in a string. The use of the re.compile() method is mandatory."
   ]
  },
  {
   "cell_type": "code",
   "execution_count": 9,
   "id": "fd3f5321-b775-4ea7-92ea-18749236f290",
   "metadata": {},
   "outputs": [
    {
     "name": "stdout",
     "output_type": "stream",
     "text": [
      "['Here', 'are', 'some', 'cat', 'dogs', 'tree', 'house', 'and', 'party']\n"
     ]
    }
   ],
   "source": [
    "str = \"Here are some examples: cat, dogs, tree, house, and party.\"\n",
    "\n",
    "pattern = re.compile(r'\\b\\w{3,5}\\b')\n",
    "\n",
    "def fucation(string):\n",
    "    string = pattern.findall(string)\n",
    "    return string\n",
    "\n",
    "print(fucation(str))"
   ]
  },
  {
   "cell_type": "markdown",
   "id": "da3b3d1e-97e0-47b5-ac07-a81b1650760b",
   "metadata": {},
   "source": [
    "# Question 5- Create a function in Python to remove the parenthesis in a list of strings. The use of the re.compile() method is mandatory.\n",
    "    Sample Text: [\"example (.com)\", \"hr@fliprobo (.com)\", \"github (.com)\", \"Hello (Data Science World)\", \"Data (Scientist)\"]\n",
    "    Expected Output:\n",
    "    example.com\n",
    "    hr@fliprobo.com\n",
    "    github.com\n",
    "    Hello Data Science World\n",
    "    Data Scientist\n"
   ]
  },
  {
   "cell_type": "code",
   "execution_count": 15,
   "id": "2dc9e4ac-84a1-4574-b7a4-cdc84ccc5221",
   "metadata": {},
   "outputs": [
    {
     "name": "stdout",
     "output_type": "stream",
     "text": [
      "example.com\n",
      "hr@fliprobo.com\n",
      "github.com\n",
      "HelloData Science World\n",
      "DataScientist\n"
     ]
    }
   ],
   "source": [
    "def remove_parenthesis(text):\n",
    "    for item in text:     \n",
    "        pattern=re.compile(r\" ?\\(| ?\\)\")     \n",
    "        print(pattern.sub(\"\", item))  \n",
    "        \n",
    "sample_text = [\"example (.com)\", \"hr@fliprobo (.com)\", \"github (.com)\", \"Hello (Data Science World)\", \"Data (Scientist)\"]\n",
    "\n",
    "remove_parenthesis(sample_text) "
   ]
  },
  {
   "cell_type": "code",
   "execution_count": null,
   "id": "2a4bc5f6-b940-4299-9ba3-dbbfefccd480",
   "metadata": {},
   "outputs": [],
   "source": []
  },
  {
   "cell_type": "markdown",
   "id": "dbdb41b8-4189-486a-9d98-c4263f47ebc1",
   "metadata": {},
   "source": [
    "# Question 6- Write a python program to remove the parenthesis area from the text stored in the text file using Regular Expression.\n",
    "            Sample Text: [\"example (.com)\", \"hr@fliprobo (.com)\", \"github (.com)\", \"Hello (Data Science World)\", \"Data (Scientist)\"]\n",
    "            Output: [\"example\", \"hr@fliprobo\", \"github\", \"Hello\", \"Data\"]\n",
    "            Note- Store given sample text in the text file and then to remove the parenthesis area from the text.\n",
    "\n"
   ]
  },
  {
   "cell_type": "code",
   "execution_count": 147,
   "id": "9be5d38b-ca0b-4d11-8ff8-8537a725991a",
   "metadata": {},
   "outputs": [
    {
     "name": "stdout",
     "output_type": "stream",
     "text": [
      "[\"example\", \"hr@fliprobo\", \"github\", \"Hello\", \"Data\"]\n"
     ]
    }
   ],
   "source": [
    "\n",
    "def remove_parenthesis_area(text):\n",
    "    pattern = re.compile(r'\\s?\\(.*?\\)')\n",
    "    return pattern.sub('', text)\n",
    "\n",
    "with open('remove_parenthesis.txt', 'r') as file:\n",
    "    content = file.read()\n",
    "\n",
    "result = remove_parenthesis_area(content)\n",
    "print(result)\n"
   ]
  },
  {
   "cell_type": "code",
   "execution_count": null,
   "id": "7c30f224-12b7-4ae2-843b-012328c98357",
   "metadata": {},
   "outputs": [],
   "source": []
  },
  {
   "cell_type": "markdown",
   "id": "77229349-17d6-4434-8a2a-3533d041868c",
   "metadata": {},
   "source": [
    "# Question 7- Write a regular expression in Python to split a string into uppercase letters.\n",
    "          Sample text: “ImportanceOfRegularExpressionsInPython”\n",
    "          Expected Output: [‘Importance’, ‘Of’, ‘Regular’, ‘Expression’, ‘In’, ‘Python’]\n"
   ]
  },
  {
   "cell_type": "code",
   "execution_count": 20,
   "id": "1bc386df-d0b7-44b5-bbd2-a1676c986486",
   "metadata": {},
   "outputs": [
    {
     "name": "stdout",
     "output_type": "stream",
     "text": [
      "['Importance', 'Of', 'Regular', 'Expressions', 'In', 'Python']\n"
     ]
    }
   ],
   "source": [
    "\n",
    "sample_text = \"ImportanceOfRegularExpressionsInPython\"\n",
    "output = re.findall(\"([A-Z][^A-Z]*)\", sample_text)\n",
    "print(output)"
   ]
  },
  {
   "cell_type": "markdown",
   "id": "dd186291-b9bb-4b46-a9db-07f1eb91e948",
   "metadata": {},
   "source": [
    "# Question 8- Create a function in python to insert spaces between words starting with numbers.\n",
    "          Sample Text: “RegularExpression1IsAn2ImportantTopic3InPython\"\n",
    "          Output: RegularExpression 1IsAn 2ImportantTopic 3InPython\n"
   ]
  },
  {
   "cell_type": "code",
   "execution_count": 21,
   "id": "74c44014-3dbd-401f-b6c0-7eb15ff924f7",
   "metadata": {},
   "outputs": [
    {
     "name": "stdout",
     "output_type": "stream",
     "text": [
      "RegularExpression 1IsAn 2ImportantTopic 3InPython\n"
     ]
    }
   ],
   "source": [
    "\n",
    "def insert_space(text):\n",
    "    return re.sub(r'(\\d)', r' \\1', text)\n",
    "\n",
    "sample_text = \"RegularExpression1IsAn2ImportantTopic3InPython\"\n",
    "print(insert_space(sample_text))\n"
   ]
  },
  {
   "cell_type": "markdown",
   "id": "dbb94da9-d7c7-423e-82b0-72a6c34762b1",
   "metadata": {},
   "source": [
    "# Question 9- Create a function in python to insert spaces between words starting with capital letters or with numbers.\n",
    "    Sample Text: “RegularExpression1IsAn2ImportantTopic3InPython\"\n",
    "    Expected Output:  RegularExpression 1 IsAn 2 ImportantTopic 3 InPython\n"
   ]
  },
  {
   "cell_type": "code",
   "execution_count": 36,
   "id": "5357b614-c7a0-44b2-a68b-ac1e512cc4ca",
   "metadata": {},
   "outputs": [
    {
     "name": "stdout",
     "output_type": "stream",
     "text": [
      " Regular Expression 1 Is An 2 Important Topic 3 In Python\n"
     ]
    }
   ],
   "source": [
    "\n",
    "Sample_text = \"RegularExpression1IsAn2ImportantTopic3InPython\"\n",
    "\n",
    "def insert_space_capitalletter(text):\n",
    "    \n",
    "     return re.sub(r'([A-Z\\d])',r' \\1',text)\n",
    "\n",
    "print(insert_space_capitalletter(Sample_text))\n"
   ]
  },
  {
   "cell_type": "markdown",
   "id": "396f7416-85cb-4100-9a6e-bb89c324a1ac",
   "metadata": {},
   "source": [
    "# Question 10- Use the github link below to read the data and create a dataframe. After creating the dataframe extract the first 6 letters of each country and store in the dataframe under a new column called first_five_letters.\n",
    "     Github Link-  https://raw.githubusercontent.com/dsrscientist/DSData/master/happiness_score_dataset.csv\n"
   ]
  },
  {
   "cell_type": "code",
   "execution_count": 57,
   "id": "4b240749-a89e-4d93-a3e2-546325718695",
   "metadata": {},
   "outputs": [
    {
     "data": {
      "text/html": [
       "<div>\n",
       "<style scoped>\n",
       "    .dataframe tbody tr th:only-of-type {\n",
       "        vertical-align: middle;\n",
       "    }\n",
       "\n",
       "    .dataframe tbody tr th {\n",
       "        vertical-align: top;\n",
       "    }\n",
       "\n",
       "    .dataframe thead th {\n",
       "        text-align: right;\n",
       "    }\n",
       "</style>\n",
       "<table border=\"1\" class=\"dataframe\">\n",
       "  <thead>\n",
       "    <tr style=\"text-align: right;\">\n",
       "      <th></th>\n",
       "      <th>Country</th>\n",
       "      <th>Region</th>\n",
       "      <th>Happiness Rank</th>\n",
       "      <th>Happiness Score</th>\n",
       "      <th>Standard Error</th>\n",
       "      <th>Economy (GDP per Capita)</th>\n",
       "      <th>Family</th>\n",
       "      <th>Health (Life Expectancy)</th>\n",
       "      <th>Freedom</th>\n",
       "      <th>Trust (Government Corruption)</th>\n",
       "      <th>Generosity</th>\n",
       "      <th>Dystopia Residual</th>\n",
       "    </tr>\n",
       "  </thead>\n",
       "  <tbody>\n",
       "    <tr>\n",
       "      <th>0</th>\n",
       "      <td>Switzerland</td>\n",
       "      <td>Western Europe</td>\n",
       "      <td>1</td>\n",
       "      <td>7.587</td>\n",
       "      <td>0.03411</td>\n",
       "      <td>1.39651</td>\n",
       "      <td>1.34951</td>\n",
       "      <td>0.94143</td>\n",
       "      <td>0.66557</td>\n",
       "      <td>0.41978</td>\n",
       "      <td>0.29678</td>\n",
       "      <td>2.51738</td>\n",
       "    </tr>\n",
       "    <tr>\n",
       "      <th>1</th>\n",
       "      <td>Iceland</td>\n",
       "      <td>Western Europe</td>\n",
       "      <td>2</td>\n",
       "      <td>7.561</td>\n",
       "      <td>0.04884</td>\n",
       "      <td>1.30232</td>\n",
       "      <td>1.40223</td>\n",
       "      <td>0.94784</td>\n",
       "      <td>0.62877</td>\n",
       "      <td>0.14145</td>\n",
       "      <td>0.43630</td>\n",
       "      <td>2.70201</td>\n",
       "    </tr>\n",
       "    <tr>\n",
       "      <th>2</th>\n",
       "      <td>Denmark</td>\n",
       "      <td>Western Europe</td>\n",
       "      <td>3</td>\n",
       "      <td>7.527</td>\n",
       "      <td>0.03328</td>\n",
       "      <td>1.32548</td>\n",
       "      <td>1.36058</td>\n",
       "      <td>0.87464</td>\n",
       "      <td>0.64938</td>\n",
       "      <td>0.48357</td>\n",
       "      <td>0.34139</td>\n",
       "      <td>2.49204</td>\n",
       "    </tr>\n",
       "    <tr>\n",
       "      <th>3</th>\n",
       "      <td>Norway</td>\n",
       "      <td>Western Europe</td>\n",
       "      <td>4</td>\n",
       "      <td>7.522</td>\n",
       "      <td>0.03880</td>\n",
       "      <td>1.45900</td>\n",
       "      <td>1.33095</td>\n",
       "      <td>0.88521</td>\n",
       "      <td>0.66973</td>\n",
       "      <td>0.36503</td>\n",
       "      <td>0.34699</td>\n",
       "      <td>2.46531</td>\n",
       "    </tr>\n",
       "    <tr>\n",
       "      <th>4</th>\n",
       "      <td>Canada</td>\n",
       "      <td>North America</td>\n",
       "      <td>5</td>\n",
       "      <td>7.427</td>\n",
       "      <td>0.03553</td>\n",
       "      <td>1.32629</td>\n",
       "      <td>1.32261</td>\n",
       "      <td>0.90563</td>\n",
       "      <td>0.63297</td>\n",
       "      <td>0.32957</td>\n",
       "      <td>0.45811</td>\n",
       "      <td>2.45176</td>\n",
       "    </tr>\n",
       "    <tr>\n",
       "      <th>...</th>\n",
       "      <td>...</td>\n",
       "      <td>...</td>\n",
       "      <td>...</td>\n",
       "      <td>...</td>\n",
       "      <td>...</td>\n",
       "      <td>...</td>\n",
       "      <td>...</td>\n",
       "      <td>...</td>\n",
       "      <td>...</td>\n",
       "      <td>...</td>\n",
       "      <td>...</td>\n",
       "      <td>...</td>\n",
       "    </tr>\n",
       "    <tr>\n",
       "      <th>153</th>\n",
       "      <td>Rwanda</td>\n",
       "      <td>Sub-Saharan Africa</td>\n",
       "      <td>154</td>\n",
       "      <td>3.465</td>\n",
       "      <td>0.03464</td>\n",
       "      <td>0.22208</td>\n",
       "      <td>0.77370</td>\n",
       "      <td>0.42864</td>\n",
       "      <td>0.59201</td>\n",
       "      <td>0.55191</td>\n",
       "      <td>0.22628</td>\n",
       "      <td>0.67042</td>\n",
       "    </tr>\n",
       "    <tr>\n",
       "      <th>154</th>\n",
       "      <td>Benin</td>\n",
       "      <td>Sub-Saharan Africa</td>\n",
       "      <td>155</td>\n",
       "      <td>3.340</td>\n",
       "      <td>0.03656</td>\n",
       "      <td>0.28665</td>\n",
       "      <td>0.35386</td>\n",
       "      <td>0.31910</td>\n",
       "      <td>0.48450</td>\n",
       "      <td>0.08010</td>\n",
       "      <td>0.18260</td>\n",
       "      <td>1.63328</td>\n",
       "    </tr>\n",
       "    <tr>\n",
       "      <th>155</th>\n",
       "      <td>Syria</td>\n",
       "      <td>Middle East and Northern Africa</td>\n",
       "      <td>156</td>\n",
       "      <td>3.006</td>\n",
       "      <td>0.05015</td>\n",
       "      <td>0.66320</td>\n",
       "      <td>0.47489</td>\n",
       "      <td>0.72193</td>\n",
       "      <td>0.15684</td>\n",
       "      <td>0.18906</td>\n",
       "      <td>0.47179</td>\n",
       "      <td>0.32858</td>\n",
       "    </tr>\n",
       "    <tr>\n",
       "      <th>156</th>\n",
       "      <td>Burundi</td>\n",
       "      <td>Sub-Saharan Africa</td>\n",
       "      <td>157</td>\n",
       "      <td>2.905</td>\n",
       "      <td>0.08658</td>\n",
       "      <td>0.01530</td>\n",
       "      <td>0.41587</td>\n",
       "      <td>0.22396</td>\n",
       "      <td>0.11850</td>\n",
       "      <td>0.10062</td>\n",
       "      <td>0.19727</td>\n",
       "      <td>1.83302</td>\n",
       "    </tr>\n",
       "    <tr>\n",
       "      <th>157</th>\n",
       "      <td>Togo</td>\n",
       "      <td>Sub-Saharan Africa</td>\n",
       "      <td>158</td>\n",
       "      <td>2.839</td>\n",
       "      <td>0.06727</td>\n",
       "      <td>0.20868</td>\n",
       "      <td>0.13995</td>\n",
       "      <td>0.28443</td>\n",
       "      <td>0.36453</td>\n",
       "      <td>0.10731</td>\n",
       "      <td>0.16681</td>\n",
       "      <td>1.56726</td>\n",
       "    </tr>\n",
       "  </tbody>\n",
       "</table>\n",
       "<p>158 rows × 12 columns</p>\n",
       "</div>"
      ],
      "text/plain": [
       "         Country                           Region  Happiness Rank  \\\n",
       "0    Switzerland                   Western Europe               1   \n",
       "1        Iceland                   Western Europe               2   \n",
       "2        Denmark                   Western Europe               3   \n",
       "3         Norway                   Western Europe               4   \n",
       "4         Canada                    North America               5   \n",
       "..           ...                              ...             ...   \n",
       "153       Rwanda               Sub-Saharan Africa             154   \n",
       "154        Benin               Sub-Saharan Africa             155   \n",
       "155        Syria  Middle East and Northern Africa             156   \n",
       "156      Burundi               Sub-Saharan Africa             157   \n",
       "157         Togo               Sub-Saharan Africa             158   \n",
       "\n",
       "     Happiness Score  Standard Error  Economy (GDP per Capita)   Family  \\\n",
       "0              7.587         0.03411                   1.39651  1.34951   \n",
       "1              7.561         0.04884                   1.30232  1.40223   \n",
       "2              7.527         0.03328                   1.32548  1.36058   \n",
       "3              7.522         0.03880                   1.45900  1.33095   \n",
       "4              7.427         0.03553                   1.32629  1.32261   \n",
       "..               ...             ...                       ...      ...   \n",
       "153            3.465         0.03464                   0.22208  0.77370   \n",
       "154            3.340         0.03656                   0.28665  0.35386   \n",
       "155            3.006         0.05015                   0.66320  0.47489   \n",
       "156            2.905         0.08658                   0.01530  0.41587   \n",
       "157            2.839         0.06727                   0.20868  0.13995   \n",
       "\n",
       "     Health (Life Expectancy)  Freedom  Trust (Government Corruption)  \\\n",
       "0                     0.94143  0.66557                        0.41978   \n",
       "1                     0.94784  0.62877                        0.14145   \n",
       "2                     0.87464  0.64938                        0.48357   \n",
       "3                     0.88521  0.66973                        0.36503   \n",
       "4                     0.90563  0.63297                        0.32957   \n",
       "..                        ...      ...                            ...   \n",
       "153                   0.42864  0.59201                        0.55191   \n",
       "154                   0.31910  0.48450                        0.08010   \n",
       "155                   0.72193  0.15684                        0.18906   \n",
       "156                   0.22396  0.11850                        0.10062   \n",
       "157                   0.28443  0.36453                        0.10731   \n",
       "\n",
       "     Generosity  Dystopia Residual  \n",
       "0       0.29678            2.51738  \n",
       "1       0.43630            2.70201  \n",
       "2       0.34139            2.49204  \n",
       "3       0.34699            2.46531  \n",
       "4       0.45811            2.45176  \n",
       "..          ...                ...  \n",
       "153     0.22628            0.67042  \n",
       "154     0.18260            1.63328  \n",
       "155     0.47179            0.32858  \n",
       "156     0.19727            1.83302  \n",
       "157     0.16681            1.56726  \n",
       "\n",
       "[158 rows x 12 columns]"
      ]
     },
     "execution_count": 57,
     "metadata": {},
     "output_type": "execute_result"
    }
   ],
   "source": [
    "url = \"https://raw.githubusercontent.com/dsrscientist/DSData/master/happiness_score_dataset.csv\"\n",
    "df = pd.read_csv(url)\n",
    "df"
   ]
  },
  {
   "cell_type": "code",
   "execution_count": 60,
   "id": "ee197833-d48e-4b0c-8f97-58fdcd135f0a",
   "metadata": {},
   "outputs": [
    {
     "name": "stdout",
     "output_type": "stream",
     "text": [
      "         Country first_five_letters\n",
      "0    Switzerland             Switze\n",
      "1        Iceland             Icelan\n",
      "2        Denmark             Denmar\n",
      "3         Norway             Norway\n",
      "4         Canada             Canada\n",
      "..           ...                ...\n",
      "153       Rwanda             Rwanda\n",
      "154        Benin              Benin\n",
      "155        Syria              Syria\n",
      "156      Burundi             Burund\n",
      "157         Togo               Togo\n",
      "\n",
      "[158 rows x 2 columns]\n"
     ]
    }
   ],
   "source": [
    "df['first_five_letters'] = df['Country'].str[:6]\n",
    "print(df[['Country','first_five_letters']])"
   ]
  },
  {
   "cell_type": "markdown",
   "id": "245031f7-d652-42da-b03a-f105602b9865",
   "metadata": {},
   "source": [
    "# Question 11- Write a Python program to match a string that contains only upper and lowercase letters, numbers, and underscores."
   ]
  },
  {
   "cell_type": "code",
   "execution_count": 138,
   "id": "adb6cc86-9d1d-4363-b32a-081f2066209a",
   "metadata": {},
   "outputs": [
    {
     "name": "stdout",
     "output_type": "stream",
     "text": [
      "Valid String:  Valid_Data\n"
     ]
    }
   ],
   "source": [
    "pattern = r'^[A-Za-z0-9_]+$'\n",
    "\n",
    "text = \"Valid_Data\"\n",
    "output =  re.match(pattern, text)\n",
    "\n",
    "if output:\n",
    "    print('Valid String: ',text)\n",
    "else:\n",
    "    print('Invalid String')\n",
    "\n"
   ]
  },
  {
   "cell_type": "markdown",
   "id": "e94d3a1d-f18a-429f-b483-e1b673fd301d",
   "metadata": {},
   "source": [
    "# Question 12- Write a Python program where a string will start with a specific number. "
   ]
  },
  {
   "cell_type": "code",
   "execution_count": 80,
   "id": "3102b650-c673-4d30-a701-bd10c114bfea",
   "metadata": {},
   "outputs": [
    {
     "name": "stdout",
     "output_type": "stream",
     "text": [
      "String Will Start '5' specific number: 5_Month_FlipRobo_Intership _Work\n"
     ]
    }
   ],
   "source": [
    "pattern = r'^5'\n",
    "\n",
    "string = ('5_Month_FlipRobo_Intership_Work')\n",
    "\n",
    "output = re.match(pattern,string)\n",
    "if output:\n",
    "    print(\"String Will Start '5' specific number:\",string)\n",
    "else:\n",
    "    print(\"String Will Not Start  '5'  number:\")"
   ]
  },
  {
   "cell_type": "markdown",
   "id": "5f934795-f82e-4cfb-a50a-c0aa5a8c5e4f",
   "metadata": {},
   "source": [
    "# Question 13- Write a Python program to remove leading zeros from an IP address"
   ]
  },
  {
   "cell_type": "code",
   "execution_count": 84,
   "id": "0c749826-ff2f-41a5-9abe-8c77332de8b9",
   "metadata": {},
   "outputs": [
    {
     "data": {
      "text/plain": [
       "'199.6.323.256'"
      ]
     },
     "execution_count": 84,
     "metadata": {},
     "output_type": "execute_result"
    }
   ],
   "source": [
    "ip_address = '199.006.323.256'\n",
    "pattern = r'\\.[0]*'\n",
    "\n",
    "output = re.sub(pattern,'.',ip_address)\n",
    "output"
   ]
  },
  {
   "cell_type": "markdown",
   "id": "b0343126-3dad-4538-9b0e-aef1f8f0add1",
   "metadata": {},
   "source": [
    "# Question 14- Write a regular expression in python to match a date string in the form of Month name followed by day number and year stored in a text file.\n",
    "      Sample text :  ' On August 15th 1947 that India was declared independent from British colonialism, and the reins of control were handed over to             the leaders of the Country’.\n",
    "      Expected Output- August 15th 1947\n",
    "      Note- Store given sample text in the text file and then extract the date string asked format.\n"
   ]
  },
  {
   "cell_type": "code",
   "execution_count": 155,
   "id": "71e26a5d-b9ea-4a8f-aeb9-59976b15cc23",
   "metadata": {},
   "outputs": [
    {
     "name": "stdout",
     "output_type": "stream",
     "text": [
      "Extracted Date: August 15th 1947\n"
     ]
    }
   ],
   "source": [
    "\n",
    "def extract_date_from_text(file_path):\n",
    "    # Open and read the file contents\n",
    "    with open('month_name.txt', 'r') as file:\n",
    "        text = file.read()\n",
    "    \n",
    "    pattern = r'\\b([A-Z][a-z]+) (\\d{1,2}(?:st|nd|rd|th)?) (\\d{4})\\b'\n",
    "    match = re.search(pattern, text)\n",
    "    \n",
    "    if match:\n",
    "        return match.group(0)\n",
    "    else:\n",
    "        return \"No date found in the specified format.\"\n",
    "\n",
    "\n",
    "date_string = extract_date_from_text(file_path)\n",
    "print(\"Extracted Date:\", date_string)\n"
   ]
  },
  {
   "cell_type": "markdown",
   "id": "6af5eb41-077d-415a-8040-493ea4c50e7d",
   "metadata": {},
   "source": [
    "# Question 15- Write a Python program to search some literals strings in a string. \n",
    "     Sample text : 'The quick brown fox jumps over the lazy dog.'\n",
    "     Searched words : 'fox', 'dog', 'horse'\n"
   ]
  },
  {
   "cell_type": "code",
   "execution_count": 94,
   "id": "354606f1-f7e5-4d1a-9361-d7200600fcb9",
   "metadata": {},
   "outputs": [
    {
     "name": "stdout",
     "output_type": "stream",
     "text": [
      "fox The quick brown fox jumps over the lazy dog.\n",
      "Matched!\n",
      "dog The quick brown fox jumps over the lazy dog.\n",
      "Matched!\n",
      "horse The quick brown fox jumps over the lazy dog.\n",
      "Not Matched!\n"
     ]
    }
   ],
   "source": [
    "Sample_text = 'The quick brown fox jumps over the lazy dog.'\n",
    "Searched_words = 'fox', 'dog', 'horse'\n",
    "\n",
    "for word in Searched_words:\n",
    "    print(word, Sample_text)\n",
    "    if re.search(word,  Sample_text):\n",
    "        print('Matched!')\n",
    "    else:\n",
    "        print('Not Matched!')"
   ]
  },
  {
   "cell_type": "markdown",
   "id": "c4f8b08f-b433-46c7-87e4-1304cc9c5ac5",
   "metadata": {},
   "source": [
    "#  Question 16- Write a Python program to search a literals string in a string and also find the location within the original string where the pattern occurs\n",
    "           Sample text : 'The quick brown fox jumps over the lazy dog.'\n",
    "           Searched words : 'fox'\n"
   ]
  },
  {
   "cell_type": "code",
   "execution_count": 92,
   "id": "94cd8116-b7e5-4ea2-b843-22aeb636e476",
   "metadata": {},
   "outputs": [
    {
     "name": "stdout",
     "output_type": "stream",
     "text": [
      "(16, 19)\n"
     ]
    }
   ],
   "source": [
    "\n",
    "def search_literal_position(text, word):\n",
    "    match = re.search(word,text)\n",
    "    if match:\n",
    "        return match.start(), match.end()\n",
    "\n",
    "semple_text = 'The quick brown fox jumps over the lazy dog.'\n",
    "search_word = 'fox'\n",
    "print(search_literal_position(semple_text, search_word))\n"
   ]
  },
  {
   "cell_type": "markdown",
   "id": "93b28fc0-d9d9-47d6-96f8-32ce913ca1b3",
   "metadata": {},
   "source": [
    "# Question 17- Write a Python program to find the substrings within a string.\n",
    "     Sample text : 'Python exercises, PHP exercises, C# exercises'\n",
    "     Pattern : 'exercises'.\n"
   ]
  },
  {
   "cell_type": "code",
   "execution_count": 39,
   "id": "2be75185-dfb4-477f-92f5-7f1540e77b8e",
   "metadata": {},
   "outputs": [
    {
     "name": "stdout",
     "output_type": "stream",
     "text": [
      "match \"exercises\"\n",
      "match \"exercises\"\n",
      "match \"exercises\"\n"
     ]
    }
   ],
   "source": [
    "text = 'Python exercises, PHP exercises, C# exercises'\n",
    "pattern = 'exercises'\n",
    "\n",
    "for match in re.findall(pattern, text):\n",
    "    print('match \"%s\"' % match)"
   ]
  },
  {
   "cell_type": "markdown",
   "id": "c2324fc3-635f-4d4d-b877-aca85b4a1ae7",
   "metadata": {},
   "source": [
    "# Question 18- Write a Python program to find the occurrence and position of the substrings within a string."
   ]
  },
  {
   "cell_type": "code",
   "execution_count": 134,
   "id": "228bb7aa-b7bb-411f-9c11-eba8456d882c",
   "metadata": {},
   "outputs": [
    {
     "name": "stdout",
     "output_type": "stream",
     "text": [
      "Position of Substring found start:end 7 : 16\n",
      "Position of Substring found start:end 27 : 36\n"
     ]
    }
   ],
   "source": [
    "text = 'Python exercises, PHP , C# exercises'\n",
    "pattern = 'exercises'\n",
    "for match in re.finditer(pattern, text):\n",
    "    s = match.start()\n",
    "    e = match.end()\n",
    "    print( \"Position of Substring found start:end\",s,\":\",e)"
   ]
  },
  {
   "cell_type": "markdown",
   "id": "0f806a3f-0585-48db-bcb0-de0d0d029ff4",
   "metadata": {},
   "source": [
    "# Question 19- Write a Python program to convert a date of yyyy-mm-dd format to dd-mm-yyyy format."
   ]
  },
  {
   "cell_type": "code",
   "execution_count": 139,
   "id": "bdf45129-a470-40fc-85ff-d17e15a8038b",
   "metadata": {},
   "outputs": [
    {
     "name": "stdout",
     "output_type": "stream",
     "text": [
      "Original date in YYY-MM-DD Format:  2026-08-22\n",
      "New date in DD-MM-YYYY Format:  22-08-2026\n"
     ]
    }
   ],
   "source": [
    "def change_date_format(dt):\n",
    "        return re.sub(r'(\\d{4})-(\\d{1,2})-(\\d{1,2})', '\\\\3-\\\\2-\\\\1', dt)\n",
    "dt1 = \"2026-08-22\"\n",
    "print(\"Original date in YYY-MM-DD Format: \",dt1)\n",
    "print(\"New date in DD-MM-YYYY Format: \",change_date_format(dt1))"
   ]
  },
  {
   "cell_type": "markdown",
   "id": "d54e8033-f813-4555-89e7-0b2bc8bd7477",
   "metadata": {},
   "source": [
    "# Question 20- Create a function in python to find all decimal numbers with a precision of 1 or 2 in a string. The use of the re.compile() method is mandatory.\n",
    "      Sample Text: \"01.12 0132.123 2.31875 145.8 3.01 27.25 0.25\"\n",
    "      Expected Output: ['01.12', '145.8', '3.01', '27.25', '0.25']\n"
   ]
  },
  {
   "cell_type": "code",
   "execution_count": 34,
   "id": "f3276d74-c21a-473d-9161-f479d2e78a93",
   "metadata": {},
   "outputs": [
    {
     "name": "stdout",
     "output_type": "stream",
     "text": [
      "['01.12', '145.8', '3.01', '27.25', '0.25']\n"
     ]
    }
   ],
   "source": [
    "\n",
    "def find_numbers(text):\n",
    "    pattern = re.compile(r'\\b\\d+\\.\\d{1,2}\\b')\n",
    "    return pattern.findall(text)\n",
    "\n",
    "sample_text = \"01.12 0132.123 2.31875 145.8 3.01 27.25 0.25\"\n",
    "print(find_numbers(sample_text))\n"
   ]
  },
  {
   "cell_type": "markdown",
   "id": "b17bc24b-cd81-4f42-bf2c-d883c129ae76",
   "metadata": {},
   "source": [
    "# Question 21- Write a Python program to separate and print the numbers and their position of a given string."
   ]
  },
  {
   "cell_type": "code",
   "execution_count": 144,
   "id": "fb1bb84a-efa9-4a6c-8c6a-cb53960e092d",
   "metadata": {},
   "outputs": [
    {
     "name": "stdout",
     "output_type": "stream",
     "text": [
      "50\n",
      "Index position: 62\n"
     ]
    },
    {
     "name": "stderr",
     "output_type": "stream",
     "text": [
      "<>:4: SyntaxWarning: invalid escape sequence '\\d'\n",
      "<>:4: SyntaxWarning: invalid escape sequence '\\d'\n",
      "C:\\Users\\Krish\\AppData\\Local\\Temp\\ipykernel_10452\\892874798.py:4: SyntaxWarning: invalid escape sequence '\\d'\n",
      "  for m in re.finditer(\"\\d+\", text):\n"
     ]
    }
   ],
   "source": [
    "text = \"\"\"The following example creates an ArrayList with a capacity of 50 elements. \n",
    "        \"Four elements are then added to the ArrayList and the ArrayList is trimmed accordingly.\"\"\"\n",
    "\n",
    "for m in re.finditer(\"\\d+\", text):\n",
    "    print(m.group(0))\n",
    "    print(\"Index position:\", m.start())"
   ]
  },
  {
   "cell_type": "markdown",
   "id": "295abd35-a399-49e2-9e47-169c5411efea",
   "metadata": {},
   "source": [
    "# Question 22- Write a regular expression in python program to extract maximum/largest numeric value from a string.\n",
    "      Sample Text:  'My marks in each semester are: 947, 896, 926, 524, 734, 950, 642'\n",
    "      Expected Output: 950\n"
   ]
  },
  {
   "cell_type": "code",
   "execution_count": 19,
   "id": "7bf010b5-dede-41f2-b84e-93d839300d31",
   "metadata": {},
   "outputs": [
    {
     "name": "stdout",
     "output_type": "stream",
     "text": [
      "maximum/largest numeric value from a string: 950\n"
     ]
    }
   ],
   "source": [
    "input_string = 'My marks in each semester are: 947, 896, 926, 524, 734, 950, 642'\n",
    "\n",
    "numeric_values = re.findall(r'\\d+', input_string)\n",
    "numeric_values = [int(value) for value in numeric_values]\n",
    "\n",
    "max_value = max(numeric_values)\n",
    "\n",
    "\n",
    "print(\"maximum/largest numeric value from a string:\",max_value)\n"
   ]
  },
  {
   "cell_type": "markdown",
   "id": "b4050cfb-0549-435f-a9ec-d99a87a2eed5",
   "metadata": {},
   "source": [
    "# Question 23- Create a function in python to insert spaces between words starting with capital letters.\n",
    "    Sample Text: “RegularExpressionIsAnImportantTopicInPython\"\n",
    "    Expected Output: Regular Expression Is An Important Topic In Python\n"
   ]
  },
  {
   "cell_type": "code",
   "execution_count": 51,
   "id": "3d1eeccd-cb12-4e0a-9485-f64636ac7887",
   "metadata": {},
   "outputs": [
    {
     "name": "stdout",
     "output_type": "stream",
     "text": [
      " Regular Expression Is An Important Topic In Python\n"
     ]
    }
   ],
   "source": [
    "\n",
    "def insert_space_capitals_letter(text):\n",
    "    return re.sub(r'([A-Z])', r' \\1', text)\n",
    "\n",
    "sample_text = \"RegularExpressionIsAnImportantTopicInPython\"\n",
    "print(insert_space_capitals_letter(sample_text))\n"
   ]
  },
  {
   "cell_type": "markdown",
   "id": "b226fbb3-759d-477f-ac78-85bc9e6ce8fe",
   "metadata": {},
   "source": [
    "# Question 24- Python regex to find sequences of one upper case letter followed by lower case letters"
   ]
  },
  {
   "cell_type": "code",
   "execution_count": 7,
   "id": "635a9b3c-51ad-4730-b640-4011c17d144b",
   "metadata": {},
   "outputs": [
    {
     "name": "stdout",
     "output_type": "stream",
     "text": [
      "['This', 'Test', 'Example', 'Regular', 'Expression']\n"
     ]
    }
   ],
   "source": [
    "\n",
    "def find_sequences(text):\n",
    "    return re.findall(r'\\b[A-Z][a-z]+\\b', text)\n",
    "\n",
    "sample_text = \"This is a Test Example of Regular Expression.\"\n",
    "print(find_sequences(sample_text))\n"
   ]
  },
  {
   "cell_type": "markdown",
   "id": "6f0abaad-2c3a-4e43-a8f6-a66d1bfc5117",
   "metadata": {},
   "source": [
    "# Question 25- Write a Python program to remove continuous duplicate words from Sentence using Regular Expression.\n",
    "    Sample Text: \"Hello hello world world\"\n",
    "    Expected Output: Hello hello world\n"
   ]
  },
  {
   "cell_type": "code",
   "execution_count": 9,
   "id": "a0e10bfa-093b-4478-a4e9-f65cbc9beead",
   "metadata": {},
   "outputs": [
    {
     "name": "stdout",
     "output_type": "stream",
     "text": [
      "Hello hello world\n"
     ]
    }
   ],
   "source": [
    "def remove_duplicates(text):\n",
    "    return re.sub(r'\\b(\\w+)\\s+\\1\\b', r'\\1', text)\n",
    "\n",
    "sample_text = \"Hello hello world world\"\n",
    "print(remove_duplicates(sample_text))"
   ]
  },
  {
   "cell_type": "markdown",
   "id": "ff62c13d-ef47-4a86-8e8a-47f4bc4baf1f",
   "metadata": {},
   "source": [
    "# Question 26-  Write a python program using RegEx to accept string ending with alphanumeric character."
   ]
  },
  {
   "cell_type": "code",
   "execution_count": 79,
   "id": "48036d0a-1fa4-4b60-bca5-7358700b3f47",
   "metadata": {},
   "outputs": [],
   "source": [
    "def check_string(input_string):\n",
    "  pattern = r\"\\w$\"\n",
    "  match = re.search(pattern, input_string)\n",
    "  if match:\n",
    "      return True\n",
    "  else:\n",
    "      return False"
   ]
  },
  {
   "cell_type": "code",
   "execution_count": 145,
   "id": "0ab41427-e11f-4421-92d1-f08fe821b9b6",
   "metadata": {},
   "outputs": [
    {
     "name": "stdin",
     "output_type": "stream",
     "text": [
      "Enter a string:  Ram went go to Home\n"
     ]
    },
    {
     "name": "stdout",
     "output_type": "stream",
     "text": [
      "Valid string.\n"
     ]
    }
   ],
   "source": [
    "\n",
    "def check_string(input_string):\n",
    "    pattern = r'.*[a-zA-Z0-9]$'\n",
    "    \n",
    "    if re.match(pattern, input_string):\n",
    "        return \"Valid string.\"\n",
    "    else:\n",
    "        return \"Invalid string.\"\n",
    "\n",
    "# Taking input from the user\n",
    "user_input = input(\"Enter a string: \")\n",
    "result = check_string(user_input)\n",
    "print(result)\n"
   ]
  },
  {
   "cell_type": "markdown",
   "id": "6a376036-c1e9-4506-b640-d5d13b6f9a4c",
   "metadata": {},
   "source": [
    "# Question 27-Write a python program using RegEx to extract the hashtags.\n",
    "      Sample Text:  \"\"\"RT @kapil_kausik: #Doltiwal I mean #xyzabc is \"hurt\" by #Demonetization as the same has rendered USELESS <ed><U+00A0><U+00BD><ed>         <U+00B1><U+0089> \"acquired funds\" No wo\"\"\"\n",
    "      Expected Output: ['#Doltiwal', '#xyzabc', '#Demonetization']\n"
   ]
  },
  {
   "cell_type": "code",
   "execution_count": 53,
   "id": "dcec01b8-1cc4-435d-b1ee-ef42d5777d0a",
   "metadata": {},
   "outputs": [
    {
     "name": "stdout",
     "output_type": "stream",
     "text": [
      "['#Doltiwal', '#xyzabc', '#Demonetization']\n"
     ]
    }
   ],
   "source": [
    "def extract_hashtags(text):\n",
    "\n",
    "    pattern = r'#\\w+'\n",
    "\n",
    "    hashtags = re.findall(pattern, text)\n",
    "    return hashtags\n",
    "\n",
    "sample_text = \"\"\"RT @kapil_kausik: #Doltiwal I mean #xyzabc is \"hurt\" by #Demonetization as the same has rendered USELESS <ed><U+00A0><U+00BD><ed><U+00B1><U+0089> \"acquired funds\" No wo\"\"\"\n",
    "\n",
    "print(extract_hashtags(sample_text))"
   ]
  },
  {
   "cell_type": "markdown",
   "id": "ba703914-27ad-4c3b-970d-571dff15581a",
   "metadata": {},
   "source": [
    "# Question 28- Write a python program using RegEx to remove <U+..> like symbols\n",
    "     Check the below sample text, there are strange symbols something of the sort <U+..> all over the place. You need to come up with a general Regex           expression that will cover all such symbols.\n",
    "     Sample Text: \"@Jags123456 Bharat band on 28??<ed><U+00A0><U+00BD><ed><U+00B8><U+0082>Those who  are protesting #demonetization  are all different          party leaders\"\n",
    "     Expected Output: @Jags123456 Bharat band on 28??<ed><ed>Those who  are protesting #demonetization  are all different party leaders\n"
   ]
  },
  {
   "cell_type": "code",
   "execution_count": 68,
   "id": "62801c34-1d66-47c0-b552-3adbe4489e5e",
   "metadata": {},
   "outputs": [
    {
     "name": "stdout",
     "output_type": "stream",
     "text": [
      "@Jags123456 Bharat band on 28??<ed><ed>Those who are protesting #demonetization are all different party leaders\n"
     ]
    }
   ],
   "source": [
    "\n",
    "def remove_symbols(text):\n",
    "    return re.sub(r'<U\\+\\w+>', '', text)\n",
    "\n",
    "sample_text: \"@Jags123456 Bharat band on 28??<ed><U+00A0><U+00BD><ed><U+00B8><U+0082>Those who  are protesting #demonetization  are all different party leaders\"\n",
    "print(remove_symbols(sample_text))\n"
   ]
  },
  {
   "cell_type": "markdown",
   "id": "8a79a34c-cb8a-4a78-9bbf-dceeab550282",
   "metadata": {},
   "source": [
    "# Question 29- Write a python program to extract dates from the text stored in the text file.\n",
    "    Sample Text: Ron was born on 12-09-1992 and he was admitted to school 15-12-1999.\n",
    "    Note- Store this sample text in the file and then extract dates.\n"
   ]
  },
  {
   "cell_type": "code",
   "execution_count": 146,
   "id": "56c28bf1-8645-42d6-8253-7d5cb2373c92",
   "metadata": {},
   "outputs": [
    {
     "name": "stdout",
     "output_type": "stream",
     "text": [
      "['12-09-1992', '15-12-1999']\n"
     ]
    }
   ],
   "source": [
    "def extract_dates(text):\n",
    "    return re.findall(r'\\d{2}-\\d{2}-\\d{4}', text)\n",
    "\n",
    "with open('sample_text.txt', 'r') as file:\n",
    "    content = file.read()\n",
    "\n",
    "print(extract_dates(content))"
   ]
  },
  {
   "cell_type": "markdown",
   "id": "2d1ae68d-95f9-4281-b488-a4f7585e7c93",
   "metadata": {},
   "source": [
    "# Question 30- Create a function in python to remove all words from a string of length between 2 and 4.\n",
    "    The use of the re.compile() method is mandatory.\n",
    "    Sample Text: \"The following example creates an ArrayList with a capacity of 50 elements. 4 elements are then added to the ArrayList and the ArrayList      is trimmed accordingly.\"\n",
    "    Expected Output:  following example creates ArrayList a capacity elements. 4 elements added ArrayList ArrayList trimmed accordingly.\n",
    "\n"
   ]
  },
  {
   "cell_type": "code",
   "execution_count": 71,
   "id": "dc4a19f7-ae3f-4e52-894c-fd8f0feaae81",
   "metadata": {},
   "outputs": [
    {
     "name": "stdout",
     "output_type": "stream",
     "text": [
      " following example creates  ArrayList  a capacity   elements. 4 elements   added   ArrayList   ArrayList  trimmed accordingly.\n"
     ]
    }
   ],
   "source": [
    "def remove_short_words(text):\n",
    "    pattern = re.compile(r'\\b\\w{2,4}\\b')\n",
    "    return re.sub(pattern,'',sample_text)\n",
    "\n",
    "sample_text = \"The following example creates an ArrayList with a capacity of 50 elements. 4 elements are then added to the ArrayList and the ArrayList is trimmed accordingly.\"\n",
    "print(remove_short_words(sample_text))\n"
   ]
  },
  {
   "cell_type": "code",
   "execution_count": null,
   "id": "4e8700ca-8924-428b-bd56-7ef6a98d0c49",
   "metadata": {},
   "outputs": [],
   "source": []
  },
  {
   "cell_type": "code",
   "execution_count": null,
   "id": "6d559911-2458-472a-983c-615194470ab1",
   "metadata": {},
   "outputs": [],
   "source": []
  },
  {
   "cell_type": "code",
   "execution_count": null,
   "id": "5a3ce40f-13a5-43a6-83c5-f509f823d5d3",
   "metadata": {},
   "outputs": [],
   "source": []
  },
  {
   "cell_type": "code",
   "execution_count": null,
   "id": "90af6c49-da24-4303-b7a9-224195575a0b",
   "metadata": {},
   "outputs": [],
   "source": []
  }
 ],
 "metadata": {
  "kernelspec": {
   "display_name": "Python 3 (ipykernel)",
   "language": "python",
   "name": "python3"
  },
  "language_info": {
   "codemirror_mode": {
    "name": "ipython",
    "version": 3
   },
   "file_extension": ".py",
   "mimetype": "text/x-python",
   "name": "python",
   "nbconvert_exporter": "python",
   "pygments_lexer": "ipython3",
   "version": "3.12.2"
  }
 },
 "nbformat": 4,
 "nbformat_minor": 5
}
